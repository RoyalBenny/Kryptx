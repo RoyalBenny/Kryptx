{
 "cells": [
  {
   "cell_type": "code",
   "execution_count": 1,
   "metadata": {},
   "outputs": [],
   "source": [
    "import argparse\n",
    "from enum import Enum\n",
    "import io\n",
    "import os\n",
    "from google.cloud import vision\n",
    "from google.cloud.vision import types\n",
    "from PIL import Image, ImageDraw\n",
    "import numpy as np\n",
    "import pandas as pd\n",
    "import math"
   ]
  },
  {
   "cell_type": "code",
   "execution_count": 2,
   "metadata": {},
   "outputs": [],
   "source": [
    "os.environ['GOOGLE_APPLICATION_CREDENTIALS'] = r'ServiceAccountToken.json'\n",
    "client = vision.ImageAnnotatorClient()\n",
    "\n",
    "bounds = []\n",
    "\n",
    "with io.open(os.path.join(r'D:\\SiH-Frame-Project\\MyVisionDemo','abc3.jpeg'), 'rb') as image_file:\n",
    "    content = image_file.read()\n",
    "\n",
    "image = types.Image(content=content)\n",
    "\n",
    "response = client.document_text_detection(image=image)\n",
    "document = response.full_text_annotation"
   ]
  },
  {
   "cell_type": "code",
   "execution_count": 3,
   "metadata": {},
   "outputs": [],
   "source": [
    "frame = pd.DataFrame(columns=['x1','y1','x2','y2','x3','y3','x4','y4','area','text']) "
   ]
  },
  {
   "cell_type": "code",
   "execution_count": 4,
   "metadata": {},
   "outputs": [],
   "source": [
    "x1=0\n",
    "x2=0\n",
    "x3=0\n",
    "x4=0\n",
    "y1=0\n",
    "y2=0\n",
    "y3=0\n",
    "y4=0\n",
    "text=''\n",
    "for page in document.pages:\n",
    "        for block in page.blocks:\n",
    "            for paragraph in block.paragraphs:\n",
    "                x1=paragraph.words[0].symbols[0].bounding_box.vertices[0].x\n",
    "                x2=paragraph.words[0].symbols[0].bounding_box.vertices[1].x\n",
    "                x3=paragraph.words[0].symbols[0].bounding_box.vertices[2].x\n",
    "                x4=paragraph.words[0].symbols[0].bounding_box.vertices[3].x\n",
    "                y1=paragraph.words[0].symbols[0].bounding_box.vertices[0].y\n",
    "                y2=paragraph.words[0].symbols[0].bounding_box.vertices[1].y\n",
    "                y3=paragraph.words[0].symbols[0].bounding_box.vertices[2].y\n",
    "                y4=paragraph.words[0].symbols[0].bounding_box.vertices[3].y\n",
    "                area=math.sqrt((x2-x1)**2+(y2-y1)**2)*math.sqrt((x3-x2)**2+(y3-y2)**2)\n",
    "                for word in paragraph.words:\n",
    "                    for symbol in word.symbols:\n",
    "                        text+=text.join(symbol.text)\n",
    "                    text+=text.join(' ')\n",
    "                frame=frame.append(dict(x1=x1,\n",
    "                                  x2=x2,\n",
    "                                  x3=x3,\n",
    "                                  x4=x4,\n",
    "                                  y1=y1,\n",
    "                                  y2=y2,\n",
    "                                  y3=y3,\n",
    "                                  y4=y4,\n",
    "                                  area=area,\n",
    "                                  text = text),ignore_index=True)\n",
    "                text=''\n",
    "               "
   ]
  },
  {
   "cell_type": "code",
   "execution_count": 5,
   "metadata": {},
   "outputs": [
    {
     "data": {
      "text/html": [
       "<div>\n",
       "<style scoped>\n",
       "    .dataframe tbody tr th:only-of-type {\n",
       "        vertical-align: middle;\n",
       "    }\n",
       "\n",
       "    .dataframe tbody tr th {\n",
       "        vertical-align: top;\n",
       "    }\n",
       "\n",
       "    .dataframe thead th {\n",
       "        text-align: right;\n",
       "    }\n",
       "</style>\n",
       "<table border=\"1\" class=\"dataframe\">\n",
       "  <thead>\n",
       "    <tr style=\"text-align: right;\">\n",
       "      <th></th>\n",
       "      <th>x1</th>\n",
       "      <th>y1</th>\n",
       "      <th>x2</th>\n",
       "      <th>y2</th>\n",
       "      <th>x3</th>\n",
       "      <th>y3</th>\n",
       "      <th>x4</th>\n",
       "      <th>y4</th>\n",
       "      <th>area</th>\n",
       "      <th>text</th>\n",
       "    </tr>\n",
       "  </thead>\n",
       "  <tbody>\n",
       "    <tr>\n",
       "      <th>0</th>\n",
       "      <td>263</td>\n",
       "      <td>741</td>\n",
       "      <td>269</td>\n",
       "      <td>742</td>\n",
       "      <td>267</td>\n",
       "      <td>756</td>\n",
       "      <td>261</td>\n",
       "      <td>755</td>\n",
       "      <td>86.023253</td>\n",
       "      <td>Dar2</td>\n",
       "    </tr>\n",
       "    <tr>\n",
       "      <th>1</th>\n",
       "      <td>449</td>\n",
       "      <td>744</td>\n",
       "      <td>454</td>\n",
       "      <td>744</td>\n",
       "      <td>454</td>\n",
       "      <td>762</td>\n",
       "      <td>449</td>\n",
       "      <td>762</td>\n",
       "      <td>90.000000</td>\n",
       "      <td>Paracetame Tab</td>\n",
       "    </tr>\n",
       "  </tbody>\n",
       "</table>\n",
       "</div>"
      ],
      "text/plain": [
       "    x1   y1   x2   y2   x3   y3   x4   y4       area             text\n",
       "0  263  741  269  742  267  756  261  755  86.023253            Dar2 \n",
       "1  449  744  454  744  454  762  449  762  90.000000  Paracetame Tab "
      ]
     },
     "execution_count": 5,
     "metadata": {},
     "output_type": "execute_result"
    }
   ],
   "source": [
    "frame"
   ]
  },
  {
   "cell_type": "code",
   "execution_count": 6,
   "metadata": {},
   "outputs": [
    {
     "data": {
      "text/plain": [
       "['Paracetame Tab ']"
      ]
     },
     "execution_count": 6,
     "metadata": {},
     "output_type": "execute_result"
    }
   ],
   "source": [
    "list(frame[frame['area']==max(frame['area'])]['text'])"
   ]
  },
  {
   "cell_type": "code",
   "execution_count": null,
   "metadata": {},
   "outputs": [],
   "source": []
  }
 ],
 "metadata": {
  "kernelspec": {
   "display_name": "Python 3",
   "language": "python",
   "name": "python3"
  },
  "language_info": {
   "codemirror_mode": {
    "name": "ipython",
    "version": 3
   },
   "file_extension": ".py",
   "mimetype": "text/x-python",
   "name": "python",
   "nbconvert_exporter": "python",
   "pygments_lexer": "ipython3",
   "version": "3.6.5"
  }
 },
 "nbformat": 4,
 "nbformat_minor": 2
}

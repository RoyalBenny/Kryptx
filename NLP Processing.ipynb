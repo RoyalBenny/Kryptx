{
 "cells": [
  {
   "cell_type": "code",
   "execution_count": 2,
   "metadata": {},
   "outputs": [],
   "source": [
    "# Imports the Google Cloud client library\n",
    "from google.cloud import language\n",
    "from google.cloud.language import enums\n",
    "from google.cloud.language import types\n",
    "import os,io"
   ]
  },
  {
   "cell_type": "code",
   "execution_count": 9,
   "metadata": {},
   "outputs": [],
   "source": [
    "os.environ['GOOGLE_APPLICATION_CREDENTIALS'] = r'ServiceAccountToken.json'\n",
    "text = u'CSE\\nFundamentals of\\nANALYTICAL REASONING\\nCL Campus\\nCampus\\nExpress\\n'\n",
    "document = types.Document(\n",
    "    content=text,\n",
    "    type=enums.Document.Type.PLAIN_TEXT)\n",
    "client = language.LanguageServiceClient()\n",
    "# Detects the sentiment of the text\n",
    "entities = client.analyze_entities(document=document)\n"
   ]
  },
  {
   "cell_type": "code",
   "execution_count": 10,
   "metadata": {},
   "outputs": [
    {
     "data": {
      "text/plain": [
       "entities {\n",
       "  name: \"CSE Fundamentals of ANALYTICAL REASONING CL Campus Campus Express\"\n",
       "  type: OTHER\n",
       "  salience: 1.0\n",
       "  mentions {\n",
       "    text {\n",
       "      content: \"CSE\\nFundamentals of\\nANALYTICAL REASONING\\nCL Campus\\nCampus\\nExpress\"\n",
       "      begin_offset: -1\n",
       "    }\n",
       "    type: PROPER\n",
       "  }\n",
       "}\n",
       "language: \"en\""
      ]
     },
     "execution_count": 10,
     "metadata": {},
     "output_type": "execute_result"
    }
   ],
   "source": [
    "entities"
   ]
  },
  {
   "cell_type": "code",
   "execution_count": 11,
   "metadata": {},
   "outputs": [
    {
     "name": "stdout",
     "output_type": "stream",
     "text": [
      "Text: CSE\n",
      "Fundamentals of\n",
      "ANALYTICAL REASONING\n",
      "CL Campus\n",
      "Campus\n",
      "Express\n",
      "\n",
      "Sentiment: 0.20000000298023224, 0.20000000298023224\n"
     ]
    }
   ],
   "source": [
    "print('Text: {}'.format(text))\n",
    "print('Sentiment: {}, {}'.format(sentiment.score, sentiment.magnitude))"
   ]
  },
  {
   "cell_type": "code",
   "execution_count": 12,
   "metadata": {},
   "outputs": [
    {
     "data": {
      "text/plain": [
       "'31 .R.P.\\n21\\nPharmaceut\\nAR\\nzithromt\\nTablets\\n500 mg\\nzithra\\n-400\\ne\\nYellow Odde\\num Dioxide IP\\nge\\nWrected by the phy\\nprotected from\\nperture not exceeding\\nthe medicine\\nB.No. 19080015\\n'"
      ]
     },
     "execution_count": 12,
     "metadata": {},
     "output_type": "execute_result"
    }
   ],
   "source": [
    "text = '''31 .R.P.\\n21\\nPharmaceut\\nAR\\nzithromt\\nTablets\\n500 mg\\nzithra\\n-400\\ne\\nYellow Odde\\num Dioxide IP\\nge\\nWrected by the phy\\nprotected from\\nperture not exceeding\\nthe medicine\\nB.No. 19080015\\n'''\n",
    "text"
   ]
  },
  {
   "cell_type": "code",
   "execution_count": 16,
   "metadata": {},
   "outputs": [
    {
     "data": {
      "text/plain": [
       "'31 .R.P.. 21. Pharmaceut. AR. zithromt. Tablets. 500 mg. zithra. -400. e. Yellow Odde. um Dioxide IP. ge. Wrected by the phy. protected from. perture not exceeding. the medicine. B.No. 19080015. '"
      ]
     },
     "execution_count": 16,
     "metadata": {},
     "output_type": "execute_result"
    }
   ],
   "source": [
    "text.replace('\\n','. ')"
   ]
  },
  {
   "cell_type": "code",
   "execution_count": 19,
   "metadata": {},
   "outputs": [
    {
     "data": {
      "text/plain": [
       "\"['Paracetamol', 'Caplets:', '500mg', 'Each caplet contains', 'Paracetamol 500 mg.', '100 Caplets', 'Crescent', '']\""
      ]
     },
     "execution_count": 19,
     "metadata": {},
     "output_type": "execute_result"
    }
   ],
   "source": [
    "sample = '''Paracetamol\\nCaplets:\\n500mg\\nEach caplet contains\\nParacetamol 500 mg.\\n100 Caplets\\nCrescent\\n'''\n",
    "\n"
   ]
  },
  {
   "cell_type": "code",
   "execution_count": null,
   "metadata": {},
   "outputs": [],
   "source": []
  }
 ],
 "metadata": {
  "kernelspec": {
   "display_name": "Python 3",
   "language": "python",
   "name": "python3"
  },
  "language_info": {
   "codemirror_mode": {
    "name": "ipython",
    "version": 3
   },
   "file_extension": ".py",
   "mimetype": "text/x-python",
   "name": "python",
   "nbconvert_exporter": "python",
   "pygments_lexer": "ipython3",
   "version": "3.6.5"
  }
 },
 "nbformat": 4,
 "nbformat_minor": 2
}

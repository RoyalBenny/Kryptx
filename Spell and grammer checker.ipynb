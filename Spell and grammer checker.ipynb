{
 "cells": [
  {
   "cell_type": "code",
   "execution_count": 1,
   "metadata": {},
   "outputs": [],
   "source": [
    "import pylanguagetool"
   ]
  },
  {
   "cell_type": "code",
   "execution_count": 2,
   "metadata": {},
   "outputs": [],
   "source": [
    "k = pylanguagetool.get_input_text"
   ]
  },
  {
   "cell_type": "code",
   "execution_count": 4,
   "metadata": {},
   "outputs": [],
   "source": [
    "text = '''in a Bot\\nresurity holes (One of them did the other patch did not work). Microsoft advise\\ner back up ritel ile before installing patches\\nThis situation is quite embarrasting and clearly explains the state of a irs of\\nrep et. The developen weether to shed or to careless to fix obvious de\\nWe may keep on discussing the history of software failure which have played\\numa fety and the projects failures in the past\\n1.1.2 No Silver\\nWe have disco some of the owners. Is there any light Orme\\nwuld continue for many years when tomobde en discuss the cars in the\\ny desay that constaday are better than they were tene n\\nThe\\ntre for seniautical engineers body say that Boeing Airbus does not make be\\ni e m pared to the\\ndecade plens Civil engin stedet\\ni eties over the quality of\\nt he structures over the tree of last decade\\nh\\nAs we all know the hardwar\\ne\\ndecline drastically. However, there\\nHence,\\nthe\\nr eofday life. Many w\\nbedre havnet only\\nm eme but also become the\\ndet human being some of the w ar die below\\nThe Yi problem was the most wel problemast century. It wie simply the\\nwhetheguy therwise ning ly last two die of the year. The 4-digit\\nate format like 104, was shortened to .dicit format, like 54 The developers could not\\nView the problem of year 2000\\nM o ns have been spent to handle this pract\\ncally sin problem\\nThe\\nprogram of USA produced Patriot missile and wasted first time\\nin Gulfa. Pati minniles were used as a defence for Iraqi Scud missiles. The trio mi\\nles filleveral times to hit Boudmises, including one that killed 28 US o ns in\\ne n Seul Arabi A review team constituted to find the reason and result was\\nba Amall timing in the wyst ack mo t ed to the point that her\\nthe tracking system was no longer\\nin the Dharan attack the system hati\\nfor more than 100 hou\\nIn 1990, US\\nmbarked on 18 t h, Smillion project place\\ndatabase. The new\\ndelivered on time but did not work as proud\\nhanding routine transactions thly stripping over more complex anes. Within three\\nthat\\nhad t o\\nred by hand and new\\ntroch trebuild the system P\\nr esent for the failure may be that the\\ner optimistinging to requests and developers hetame teden\\ndeadlines, allowing are to be ineret\\n\\\"One little bo g hol Arianece mocket developed at a cost of $7000M\\nser 10 year period. The space rocket was destroyed after 39 seconds of its launch at\\naltitude of two and a half miles along the payland of four pensive and unire sentit\\nsatellites. There was very simple. When the guidance system's own computer tried to\\nver p lace of data-the way welcity of the rocket--from a 64-bit format to a 16-bit\\nfurmat the number was too big, and an evento resulted after 36.\\nT ode When the\\nu ne system shutdown, it contrato an idential, redundant unit, which was there\\nto vide backup in case of such a fire. Unfortunately, the second unit had failed in\\nthe dentical manner a few mi n before. In this case, the developer haddedded that\\nthis partibular velocity fire woulderver be larte h t cause trouble after all, it\\nhad before\\nFinani w a n sential part of a company's IT infrastructure How\\nmany companies have experienced for in their secounting sedute\\nthe water the b regd runs producing the wrong information to the amplece\\nashing There w e\\nr e the quality of the finansowe\\nistem only in Information, this may have an advertempat den\\nCharles Manne\\ns butindows XP through his article in the\\nMANNO\\nMich elesed windows XP ober 25, 2001 and on the same day, which may be\\nrecord, the company posted 18 megabytes of patches on ite website for bug fixes\\ntibility updated\\nthe patches were intended to fitant\\nhan d But welk to the\\nh eadende,\\nw en silver ballet There\\nsingle devement ether\\ne nt technique that by tarmi\\nvenner -maritudimprovement in productivity in reliability, in simplicity\\nInventions in the desi g\\nn s and large scale integration has vig\\ni ntly affected the cost performance and reliability of the computer hardware. No other\\ntechni c ien behe e r of mitude in performance-price\\nprin in 30 years. The presin e technology is not that roy due to certain dili\\nwith the cho e dedicats are complexity, changeability and invisibility\\nThe hard part of building software is the specification, design and testing of this\\nctual construct not the best of representing it and testing the correctness of\\npresentation. We still ma t ase , tabere, but they are trivial as compared to the\\na declensio n s. That is why, building software is always hard\\nand there is inherently bullet\\nMany pecially CASE vendosheve that CASE (Computer Aided Software\\nEn t reprent the so-called\\nthat\\nthe software industry\\nthe r e is any companies have these tool and spent les sums of money\\nbetrots\\nw hich we r e the way that there is no such things\\nROOT\\nThe wa v ing day by day and i t is a sig en every of\\nWe cam e day withouting bell phones, lemon to the inte\\nwings watching televisi o n. All the activities are dependent on a n\\nd e beste everywhere. The blame for these posts aware comp\\nthat rush products to make without adequately testing them. It belongs to a\\nw\\n'''"
   ]
  },
  {
   "cell_type": "code",
   "execution_count": 6,
   "metadata": {},
   "outputs": [
    {
     "data": {
      "text/plain": [
       "'in a Botresurity holes (One of them did the other patch did not work). Microsoft adviseer back up ritel ile before installing patchesThis situation is quite embarrasting and clearly explains the state of a irs ofrep et. The developen weether to shed or to careless to fix obvious deWe may keep on discussing the history of software failure which have playeduma fety and the projects failures in the past1.1.2 No SilverWe have disco some of the owners. Is there any light Ormewuld continue for many years when tomobde en discuss the cars in they desay that constaday are better than they were tene nThetre for seniautical engineers body say that Boeing Airbus does not make bei e m pared to thedecade plens Civil engin stedeti eties over the quality oft he structures over the tree of last decadehAs we all know the hardwaredecline drastically. However, thereHence,ther eofday life. Many wbedre havnet onlym eme but also become thedet human being some of the w ar die belowThe Yi problem was the most wel problemast century. It wie simply thewhetheguy therwise ning ly last two die of the year. The 4-digitate format like 104, was shortened to .dicit format, like 54 The developers could notView the problem of year 2000M o ns have been spent to handle this practcally sin problemTheprogram of USA produced Patriot missile and wasted first timein Gulfa. Pati minniles were used as a defence for Iraqi Scud missiles. The trio miles filleveral times to hit Boudmises, including one that killed 28 US o ns ine n Seul Arabi A review team constituted to find the reason and result wasba Amall timing in the wyst ack mo t ed to the point that herthe tracking system was no longerin the Dharan attack the system hatifor more than 100 houIn 1990, USmbarked on 18 t h, Smillion project placedatabase. The newdelivered on time but did not work as proudhanding routine transactions thly stripping over more complex anes. Within threethathad t ored by hand and newtroch trebuild the system Pr esent for the failure may be that theer optimistinging to requests and developers hetame tedendeadlines, allowing are to be ineret\"One little bo g hol Arianece mocket developed at a cost of $7000Mser 10 year period. The space rocket was destroyed after 39 seconds of its launch ataltitude of two and a half miles along the payland of four pensive and unire sentitsatellites. There was very simple. When the guidance system\\'s own computer tried tover p lace of data-the way welcity of the rocket--from a 64-bit format to a 16-bitfurmat the number was too big, and an evento resulted after 36.T ode When theu ne system shutdown, it contrato an idential, redundant unit, which was thereto vide backup in case of such a fire. Unfortunately, the second unit had failed inthe dentical manner a few mi n before. In this case, the developer haddedded thatthis partibular velocity fire woulderver be larte h t cause trouble after all, ithad beforeFinani w a n sential part of a company\\'s IT infrastructure Howmany companies have experienced for in their secounting sedutethe water the b regd runs producing the wrong information to the ampleceashing There w er e the quality of the finansoweistem only in Information, this may have an advertempat denCharles Mannes butindows XP through his article in theMANNOMich elesed windows XP ober 25, 2001 and on the same day, which may berecord, the company posted 18 megabytes of patches on ite website for bug fixestibility updatedthe patches were intended to fitanthan d But welk to theh eadende,w en silver ballet Theresingle devement ethere nt technique that by tarmivenner -maritudimprovement in productivity in reliability, in simplicityInventions in the desi gn s and large scale integration has vigi ntly affected the cost performance and reliability of the computer hardware. No othertechni c ien behe e r of mitude in performance-priceprin in 30 years. The presin e technology is not that roy due to certain diliwith the cho e dedicats are complexity, changeability and invisibilityThe hard part of building software is the specification, design and testing of thisctual construct not the best of representing it and testing the correctness ofpresentation. We still ma t ase , tabere, but they are trivial as compared to thea declensio n s. That is why, building software is always hardand there is inherently bulletMany pecially CASE vendosheve that CASE (Computer Aided SoftwareEn t reprent the so-calledthatthe software industrythe r e is any companies have these tool and spent les sums of moneybetrotsw hich we r e the way that there is no such thingsROOTThe wa v ing day by day and i t is a sig en every ofWe cam e day withouting bell phones, lemon to the intewings watching televisi o n. All the activities are dependent on a nd e beste everywhere. The blame for these posts aware compthat rush products to make without adequately testing them. It belongs to aw'"
      ]
     },
     "execution_count": 6,
     "metadata": {},
     "output_type": "execute_result"
    }
   ],
   "source": [
    "text.replace('\\n','')"
   ]
  },
  {
   "cell_type": "code",
   "execution_count": null,
   "metadata": {},
   "outputs": [],
   "source": []
  }
 ],
 "metadata": {
  "kernelspec": {
   "display_name": "Python 3",
   "language": "python",
   "name": "python3"
  },
  "language_info": {
   "codemirror_mode": {
    "name": "ipython",
    "version": 3
   },
   "file_extension": ".py",
   "mimetype": "text/x-python",
   "name": "python",
   "nbconvert_exporter": "python",
   "pygments_lexer": "ipython3",
   "version": "3.6.5"
  }
 },
 "nbformat": 4,
 "nbformat_minor": 2
}
